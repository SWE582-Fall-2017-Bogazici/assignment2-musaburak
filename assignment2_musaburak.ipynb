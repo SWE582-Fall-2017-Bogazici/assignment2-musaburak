{
 "cells": [
  {
   "cell_type": "markdown",
   "metadata": {},
   "source": [
    "# Gradient Descent"
   ]
  },
  {
   "cell_type": "code",
   "execution_count": 1,
   "metadata": {},
   "outputs": [
    {
     "name": "stdout",
     "output_type": "stream",
     "text": [
      "\n",
      "Alpha search results:\n",
      "ErrOpt:1.236638 alphaOpt:0.000001000195 betaOpt:0.990000000 wOpt :[  1.98164135e+00   9.34458993e-01  -4.38282230e-02   1.03541893e-03]\n",
      "\n",
      "Beta  search results:\n",
      "ErrOpt:1.236601 alphaOpt:0.000001000195 betaOpt:0.990019800 wOpt :[  1.98161904e+00   9.34401929e-01  -4.38055571e-02   1.02798454e-03]\n"
     ]
    }
   ],
   "source": [
    "%matplotlib inline\n",
    "import matplotlib.pylab as plt\n",
    "\n",
    "import time\n",
    "from IPython import display\n",
    "import numpy as np\n",
    "\n",
    "\n",
    "DEBUG = False\n",
    "\n",
    "#y = np.array([7.46, 6.77, 12.74, 7.11, 7.81, 8.84, 6.08, 5.39, 8.15, 6.42, 5.73])\n",
    "y = np.array([8.04, 6.95, 7.58, 8.81, 8.33, 9.96, 7.24, 4.26, 10.84, 4.82, 5.68])\n",
    "#y = np.array([9.14, 8.14, 8.74, 8.77, 9.26, 8.10, 6.13, 3.10, 9.13, 7.26, 4.74])\n",
    "x = np.array([10., 8., 13., 9., 11., 14., 6., 4., 12., 7., 5.])\n",
    "N = len(x)\n",
    "\n",
    "# Design matrix\n",
    "A = np.vstack((np.ones(N), x, x**2, x**3)).T\n",
    "\n",
    "# initial parameters\n",
    "w0 = np.array([2., 1.,0.1, 0.001])\n",
    "p0 = np.zeros(4)\n",
    "\n",
    "def tryAlphaBeta(alpha, beta):\n",
    "\n",
    "    w = w0\n",
    "    p = p0\n",
    "\n",
    "    wBest = w\n",
    "    EMin  = float('Inf');  \n",
    "\n",
    "    for epoch in range(1000):\n",
    "        # Error\n",
    "        err = y-A.dot(w)\n",
    "        \n",
    "        # Total error\n",
    "        E = np.sum(err**2)/N\n",
    "        \n",
    "        # Gradient\n",
    "        dE = -2.*A.T.dot(err)/N\n",
    "\n",
    "        # Momentum\n",
    "        p = dE + beta*p\n",
    "        \n",
    "        if epoch%10 == 0 and DEBUG: \n",
    "            print(epoch,':',E)\n",
    "            # print(w)    \n",
    "\n",
    "        # Perfom one descent step\n",
    "        w = w - alpha*p\n",
    "    return E, w\n",
    "\n",
    "\n",
    "# Learning rate\n",
    "\n",
    "alpha = 0.000001\n",
    "beta = 0.99\n",
    "\n",
    "ErrOpt = float('Inf'); \n",
    "alphaOpt = alpha\n",
    "betaOpt  = beta\n",
    "wOpt   = w0\n",
    "\n",
    "# change for alpha\n",
    "for i in range(100):\n",
    "\n",
    "    tempE, tempW = tryAlphaBeta(alpha, beta)\n",
    "    if DEBUG: \n",
    "        print(\"tempE :%-1.6f alpha   :%-1.12f beta   :%-1.4f tempW:%s\" % (tempE, alpha, beta, tempW)) \n",
    "\n",
    "    if(tempE <= ErrOpt):\n",
    "        ErrOpt = tempE\n",
    "        wOpt   = tempW\n",
    "        alphaOpt = alpha\n",
    "        alpha = alpha/2\n",
    "    else:\n",
    "        alpha = alpha * 1.1\n",
    "\n",
    "print(\"\\nAlpha search results:\")\n",
    "print(\"ErrOpt:%-1.6f alphaOpt:%-1.12f betaOpt:%-1.9f wOpt :%s\" % (ErrOpt, alphaOpt, betaOpt, wOpt))   \n",
    "\n",
    "\n",
    "alpha = alphaOpt\n",
    "\n",
    "betaDownRate = 0.99998\n",
    "betaUpRate   = 1.00001\n",
    "# change for beta\n",
    "for i in range(100):\n",
    "\n",
    "    beta = betaOpt\n",
    "\n",
    "    tempE1, tempW1 = tryAlphaBeta(alpha, beta  * betaDownRate)\n",
    "    if DEBUG: \n",
    "        print(\"1 tempE :%-1.6f alpha   :%-1.12f beta   :%-1.9f tempW:%s\" % (tempE1, alpha, beta * betaDownRate, tempW1)) \n",
    "    tempE2, tempW2 = tryAlphaBeta(alpha, beta * betaUpRate)\n",
    "    if DEBUG: \n",
    "        print(\"2 tempE :%-1.6f alpha   :%-1.12f beta   :%-1.9f tempW:%s\" % (tempE2, alpha, beta * betaUpRate, tempW2)) \n",
    "\n",
    "\n",
    "    if(tempE1 <= tempE2 and tempE1 <= ErrOpt):\n",
    "        ErrOpt  = tempE1\n",
    "        wOpt    = tempW1\n",
    "        betaOpt = beta * betaDownRate\n",
    "    elif(tempE2 <= tempE1 and tempE2 <= ErrOpt):\n",
    "        ErrOpt  = tempE2\n",
    "        wOpt    = tempW2\n",
    "        betaOpt = beta * betaUpRate\n",
    "    else:\n",
    "        if DEBUG: \n",
    "            print('This is what I can do now :(')\n",
    "        break\n",
    "\n",
    "print(\"\\nBeta  search results:\")\n",
    "print(\"ErrOpt:%-1.6f alphaOpt:%-1.12f betaOpt:%-1.9f wOpt :%s\" % (ErrOpt, alphaOpt, betaOpt, wOpt)) "
   ]
  },
  {
   "cell_type": "code",
   "execution_count": null,
   "metadata": {},
   "outputs": [],
   "source": []
  }
 ],
 "metadata": {
  "kernelspec": {
   "display_name": "Python 3",
   "language": "python",
   "name": "python3"
  },
  "language_info": {
   "codemirror_mode": {
    "name": "ipython",
    "version": 3
   },
   "file_extension": ".py",
   "mimetype": "text/x-python",
   "name": "python",
   "nbconvert_exporter": "python",
   "pygments_lexer": "ipython3",
   "version": "3.6.2"
  },
  "latex_envs": {
   "LaTeX_envs_menu_present": false,
   "autocomplete": false,
   "bibliofile": "biblio.bib",
   "cite_by": "apalike",
   "current_citInitial": 1,
   "eqLabelWithNumbers": false,
   "eqNumInitial": 1,
   "hotkeys": {
    "equation": "Ctrl-E",
    "itemize": "Ctrl-I"
   },
   "labels_anchors": false,
   "latex_user_defs": false,
   "report_style_numbering": false,
   "user_envs_cfg": true
  },
  "varInspector": {
   "cols": {
    "lenName": 16,
    "lenType": 16,
    "lenVar": 40
   },
   "kernels_config": {
    "python": {
     "delete_cmd_postfix": "",
     "delete_cmd_prefix": "del ",
     "library": "var_list.py",
     "varRefreshCmd": "print(var_dic_list())"
    },
    "r": {
     "delete_cmd_postfix": ") ",
     "delete_cmd_prefix": "rm(",
     "library": "var_list.r",
     "varRefreshCmd": "cat(var_dic_list()) "
    }
   },
   "types_to_exclude": [
    "module",
    "function",
    "builtin_function_or_method",
    "instance",
    "_Feature"
   ],
   "window_display": false
  }
 },
 "nbformat": 4,
 "nbformat_minor": 2
}
